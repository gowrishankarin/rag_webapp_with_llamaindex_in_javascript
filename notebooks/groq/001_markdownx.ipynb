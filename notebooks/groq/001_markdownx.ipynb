{
 "cells": [
  {
   "cell_type": "code",
   "execution_count": null,
   "id": "2ee0a386-fad7-4429-b0bc-2629c0dfcd23",
   "metadata": {},
   "outputs": [],
   "source": [
    "# !pip install python-frontmatter"
   ]
  },
  {
   "cell_type": "code",
   "execution_count": 1,
   "id": "64a214ed-d12a-40d3-a3ec-b205c31f59f8",
   "metadata": {},
   "outputs": [],
   "source": [
    "import frontmatter\n",
    "import markdown\n",
    "import xml.etree.ElementTree as ET"
   ]
  },
  {
   "cell_type": "code",
   "execution_count": 2,
   "id": "92c1f6d2-7e44-41fe-8a9e-48eade13a7a2",
   "metadata": {},
   "outputs": [],
   "source": [
    "def parse_mdx_file(file_path):\n",
    "    with open(file_path, 'r', encoding='utf-8') as file:\n",
    "        mdx_content = file.read()\n",
    "\n",
    "    mdx = frontmatter.loads(mdx_content)\n",
    "    metadata = mdx.metadata\n",
    "    markdown_content = mdx.content\n",
    "\n",
    "    # html_content = markdown.markdown(markdown_content, extensions=['markdownx'])\n",
    "\n",
    "    return metadata, markdown_content\n"
   ]
  },
  {
   "cell_type": "code",
   "execution_count": 3,
   "id": "af6ffade-87f0-4a19-a696-9f28e668083c",
   "metadata": {},
   "outputs": [],
   "source": [
    "file_path = '../dapi/lib/ai_agent/prompts/prompt_files/mixed_companies_prompt_template.prompt'"
   ]
  },
  {
   "cell_type": "code",
   "execution_count": 4,
   "id": "c1f8f353-707c-49b5-b854-9d26925391a6",
   "metadata": {},
   "outputs": [
    {
     "name": "stdout",
     "output_type": "stream",
     "text": [
      "mixed_companies_prompt_template.prompt mixed_people_prompt_template.prompt\n"
     ]
    }
   ],
   "source": [
    "!ls ../dapi/lib/ai_agent/prompts/prompt_files "
   ]
  },
  {
   "cell_type": "code",
   "execution_count": 5,
   "id": "60bc3019-1a66-4568-9fb0-b6b2e9991123",
   "metadata": {},
   "outputs": [],
   "source": [
    "metadata, markdown = parse_mdx_file(file_path)"
   ]
  },
  {
   "cell_type": "code",
   "execution_count": 6,
   "id": "72144592-fec9-484f-a85d-fada9afa209b",
   "metadata": {},
   "outputs": [
    {
     "data": {
      "text/plain": [
       "{'name': 'Name of the prompt',\n",
       " 'description': 'Given a subject line, generate email body',\n",
       " 'id': 'mixed_companies_prompt_template',\n",
       " 'model': 'gpt-3.5-turbo',\n",
       " 'temperature': 0.7,\n",
       " 'max_tokens': -1,\n",
       " 'top_p': 1.0,\n",
       " 'presence_penalty': 0.0,\n",
       " 'frequency_penalty': 0.0,\n",
       " 'provider': 'openai',\n",
       " 'endpoint': 'chat',\n",
       " 'variables': ['DETAILS', 'DERIVED_COLUMN_DETAILS', 'QUERY', 'ANSWER_FORMAT'],\n",
       " 'tools': [],\n",
       " 'train_data': '',\n",
       " 'test_data': '',\n",
       " 'val_data': ''}"
      ]
     },
     "execution_count": 6,
     "metadata": {},
     "output_type": "execute_result"
    }
   ],
   "source": [
    "metadata"
   ]
  },
  {
   "cell_type": "code",
   "execution_count": 7,
   "id": "49563ceb-a090-4e9d-83b5-90a3ea800b3f",
   "metadata": {},
   "outputs": [
    {
     "data": {
      "text/plain": [
       "'<content>\\n  <system>\\n    You are a helpful analyst who can read the given information and answer the query in a logical way.\\n    Your response should be in JSON format and answer should follow the instructions given inside \"answerFormat\" tag\\n  </system>\\n  <user>\\n    <instructions>\\n      Below mentioned are the details of a company inside \"companyDetails\" tag.\\n      Read the details carefully like a professional and understand the properties\\n      of the company.\\n      Based on the company details answer the question mentioned within \"query\" tag.\\n      Your answer should follow the instructions provided inside \"answerFormat\" tag\\n    </instructions>\\n    <companyDetails>\\n      {{DETAILS}}\\n      {{DERIVED_COLUMN_DETAILS}}\\n    </companyDetails>\\n    <query>{{QUERY}}</query>\\n    <answerFormat>\\n      {{ANSWER_FORMAT}}.\\n      Do not provide answer inside xml tags\\n      Be precise and concise and follow the instructions.\\n      Answer should be a single key value paire where the key is \\'answer\\'\\n    </answerFormat>\\n  </user>\\n</content>'"
      ]
     },
     "execution_count": 7,
     "metadata": {},
     "output_type": "execute_result"
    }
   ],
   "source": [
    "markdown"
   ]
  },
  {
   "cell_type": "code",
   "execution_count": 8,
   "id": "191d7ea6-6c92-43bd-b438-f7b449d9fd7d",
   "metadata": {},
   "outputs": [],
   "source": [
    "def _extract_string_from_xml(content, tag, as_string=False):\n",
    "    root = ET.fromstring(content)\n",
    "    elements = root.findall(\".//\" + tag)\n",
    "    text = None\n",
    "    if as_string:\n",
    "        text = [\n",
    "            ET.tostring(element, encoding=\"unicode\", method=\"xml\")\n",
    "            for element in elements\n",
    "        ]\n",
    "    else:\n",
    "        text = [element.text for element in elements]\n",
    "    return \" \".join(text)"
   ]
  },
  {
   "cell_type": "code",
   "execution_count": 9,
   "id": "c83f974c-e592-4e12-9c94-779d383c13d5",
   "metadata": {},
   "outputs": [
    {
     "data": {
      "text/plain": [
       "'\\n    '"
      ]
     },
     "execution_count": 9,
     "metadata": {},
     "output_type": "execute_result"
    }
   ],
   "source": [
    "_extract_string_from_xml(markdown, \"user\")"
   ]
  },
  {
   "cell_type": "code",
   "execution_count": 10,
   "id": "246378cf-98c0-4d71-9715-d09d78e757e0",
   "metadata": {},
   "outputs": [
    {
     "data": {
      "text/plain": [
       "''"
      ]
     },
     "execution_count": 10,
     "metadata": {},
     "output_type": "execute_result"
    }
   ],
   "source": [
    "_extract_string_from_xml(markdown, \"shankar\") # there is no shankar tag"
   ]
  },
  {
   "cell_type": "code",
   "execution_count": 11,
   "id": "6392523b-91f8-4a10-9ea6-dde787d50375",
   "metadata": {},
   "outputs": [
    {
     "data": {
      "text/plain": [
       "''"
      ]
     },
     "execution_count": 11,
     "metadata": {},
     "output_type": "execute_result"
    }
   ],
   "source": [
    "_extract_string_from_xml(markdown, \"shankar\", as_string=True) "
   ]
  },
  {
   "cell_type": "code",
   "execution_count": 12,
   "id": "0cfaa1c2-dea9-4227-8f4f-2248a0a1b393",
   "metadata": {},
   "outputs": [
    {
     "data": {
      "text/plain": [
       "'<user>\\n    <instructions>\\n      Below mentioned are the details of a company inside \"companyDetails\" tag.\\n      Read the details carefully like a professional and understand the properties\\n      of the company.\\n      Based on the company details answer the question mentioned within \"query\" tag.\\n      Your answer should follow the instructions provided inside \"answerFormat\" tag\\n    </instructions>\\n    <companyDetails>\\n      {{DETAILS}}\\n      {{DERIVED_COLUMN_DETAILS}}\\n    </companyDetails>\\n    <query>{{QUERY}}</query>\\n    <answerFormat>\\n      {{ANSWER_FORMAT}}.\\n      Do not provide answer inside xml tags\\n      Be precise and concise and follow the instructions.\\n      Answer should be a single key value paire where the key is \\'answer\\'\\n    </answerFormat>\\n  </user>\\n'"
      ]
     },
     "execution_count": 12,
     "metadata": {},
     "output_type": "execute_result"
    }
   ],
   "source": [
    "_extract_string_from_xml(markdown, \"user\", as_string=True) "
   ]
  },
  {
   "cell_type": "code",
   "execution_count": null,
   "id": "97f48198-8032-4053-bc8b-363033df242c",
   "metadata": {},
   "outputs": [],
   "source": []
  },
  {
   "cell_type": "code",
   "execution_count": null,
   "id": "d8aae4dd-1f9b-41b3-a013-0cb06b4a4b2c",
   "metadata": {},
   "outputs": [],
   "source": []
  },
  {
   "cell_type": "code",
   "execution_count": null,
   "id": "22bd3d06-d9af-4cc9-9f7d-6a15d0c988bf",
   "metadata": {},
   "outputs": [],
   "source": []
  }
 ],
 "metadata": {
  "kernelspec": {
   "display_name": "Python 3 (ipykernel)",
   "language": "python",
   "name": "python3"
  },
  "language_info": {
   "codemirror_mode": {
    "name": "ipython",
    "version": 3
   },
   "file_extension": ".py",
   "mimetype": "text/x-python",
   "name": "python",
   "nbconvert_exporter": "python",
   "pygments_lexer": "ipython3",
   "version": "3.11.8"
  }
 },
 "nbformat": 4,
 "nbformat_minor": 5
}
