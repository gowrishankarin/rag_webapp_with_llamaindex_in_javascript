{
 "cells": [
  {
   "cell_type": "markdown",
   "id": "96189013",
   "metadata": {},
   "source": [
    "# Build a full-stack webapp\n",
    "\n",
    "### Simple Webserver"
   ]
  },
  {
   "cell_type": "code",
   "execution_count": 1,
   "id": "d76c1073",
   "metadata": {},
   "outputs": [],
   "source": [
    "const handler = (req) => {\n",
    "    // Create a new response object\n",
    "    const body = new TextEncoder().encode(\"Hello World\");\n",
    "    return new Response(body, {\n",
    "        status: 200\n",
    "    })\n",
    "}"
   ]
  },
  {
   "cell_type": "code",
   "execution_count": 3,
   "id": "982f70ef",
   "metadata": {},
   "outputs": [
    {
     "name": "stdout",
     "output_type": "stream",
     "text": [
      "Listening on http://localhost:8001/\n"
     ]
    }
   ],
   "source": [
    "let server = Deno.serve({\n",
    "    port: 8001\n",
    "}, handler)"
   ]
  },
  {
   "cell_type": "code",
   "execution_count": 4,
   "id": "2672474e",
   "metadata": {},
   "outputs": [
    {
     "data": {
      "text/plain": [
       "\u001b[32m\"Hello World\"\u001b[39m"
      ]
     },
     "execution_count": 4,
     "metadata": {},
     "output_type": "execute_result"
    }
   ],
   "source": [
    "const response = await fetch(\"http://localhost:8001\")\n",
    "await response.text()"
   ]
  },
  {
   "cell_type": "code",
   "execution_count": 5,
   "id": "bac78608",
   "metadata": {},
   "outputs": [
    {
     "ename": "Interrupted",
     "evalue": "operation canceled",
     "output_type": "error",
     "traceback": [
      "Stack trace:",
      "Interrupted: operation canceled"
     ]
    }
   ],
   "source": [
    "await server.shutdown()"
   ]
  },
  {
   "cell_type": "markdown",
   "id": "6f554086",
   "metadata": {},
   "source": [
    "## Setup the Docs, Index and Query Engine"
   ]
  },
  {
   "cell_type": "code",
   "execution_count": 7,
   "id": "c38f091d",
   "metadata": {},
   "outputs": [],
   "source": [
    "import * as mod from \"https://deno.land/std@0.213.0/dotenv/mod.ts\";\n",
    "import { \n",
    "    Document, \n",
    "    VectorStoreIndex, \n",
    "    SimpleDirectoryReader \n",
    "} from \"npm:llamaindex@0.1.8\"\n",
    "const keys = await mod.load({export:true}) // read API key from .env\n",
    "\n",
    "const documents = await new SimpleDirectoryReader().loadData({directoryPath: \"../data\"})\n",
    "const index = await VectorStoreIndex.fromDocuments(documents)\n",
    "const queryEngine = index.asQueryEngine()"
   ]
  },
  {
   "cell_type": "markdown",
   "id": "9f937188",
   "metadata": {},
   "source": [
    "### Create Req/Res Handlers"
   ]
  },
  {
   "cell_type": "code",
   "execution_count": 10,
   "id": "7472611b",
   "metadata": {},
   "outputs": [
    {
     "name": "stdout",
     "output_type": "stream",
     "text": [
      "Listening on http://localhost:8002/\n"
     ]
    }
   ],
   "source": [
    "const handler2 = async ( req ) => {\n",
    "    if(req.method == \"POST\") {\n",
    "        let data = await req.json();\n",
    "        let answer = await queryEngine.query({\n",
    "            query: data.query\n",
    "        });\n",
    "        let responseObj = {\n",
    "            response: answer.toString()\n",
    "        }\n",
    "        return new Response(JSON.stringify(responseObj), {\n",
    "            status: 200\n",
    "        });\n",
    "    } else {\n",
    "        return new Response(\"Not Found\", {\n",
    "            status: 404\n",
    "        })\n",
    "    }\n",
    "}\n",
    "let server2 = Deno.serve({\n",
    "    port: 8002\n",
    "}, handler2);"
   ]
  },
  {
   "cell_type": "code",
   "execution_count": 11,
   "id": "21d51019",
   "metadata": {},
   "outputs": [],
   "source": [
    "let data = { query: \"Brief me what is there in the corpus in 100 words\" }"
   ]
  },
  {
   "cell_type": "code",
   "execution_count": 12,
   "id": "6a52b154",
   "metadata": {},
   "outputs": [],
   "source": [
    "let response2 = await fetch(\"http://localhost:8002\", {\n",
    "  method: \"POST\",\n",
    "  headers: {\n",
    "    \"Content-Type\": \"application/json\"\n",
    "  },\n",
    "  body: JSON.stringify(data) // Convert the JavaScript object to a JSON string\n",
    "})"
   ]
  },
  {
   "cell_type": "code",
   "execution_count": 13,
   "id": "ca9139b3",
   "metadata": {},
   "outputs": [
    {
     "name": "stdout",
     "output_type": "stream",
     "text": [
      "The corpus consists of 12 rules or teachings shared by Shams, focusing on the relationship between individuals and God, the importance of following the heart over the mind, the significance of love in spiritual growth, the role of language in understanding, the journey within oneself, the necessity of hardship for personal growth, the transformative power of seeking love, and the distinction between true mentors and false gurus. Each rule emphasizes the importance of self-discovery, love, and authenticity in spiritual and personal development, guiding individuals towards a deeper understanding of themselves and their connection to the divine.\n"
     ]
    }
   ],
   "source": [
    "let responseObj = await response2.json()\n",
    "console.log(responseObj.response)"
   ]
  },
  {
   "cell_type": "code",
   "execution_count": 14,
   "id": "d44a8fad",
   "metadata": {},
   "outputs": [],
   "source": [
    "await server2.shutdown()"
   ]
  },
  {
   "cell_type": "code",
   "execution_count": null,
   "id": "3f7f1522",
   "metadata": {},
   "outputs": [],
   "source": []
  }
 ],
 "metadata": {
  "kernelspec": {
   "display_name": "Deno",
   "language": "typescript",
   "name": "deno"
  },
  "language_info": {
   "file_extension": ".ts",
   "mimetype": "text/x.typescript",
   "name": "typescript",
   "nb_converter": "script",
   "pygments_lexer": "typescript",
   "version": "5.4.3"
  }
 },
 "nbformat": 4,
 "nbformat_minor": 5
}
