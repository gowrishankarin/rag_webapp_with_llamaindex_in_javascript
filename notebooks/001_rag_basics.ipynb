{
 "cells": [
  {
   "cell_type": "markdown",
   "id": "f8623448-2ad5-4d95-a190-4da375737f96",
   "metadata": {},
   "source": [
    "# RAG Basics"
   ]
  },
  {
   "cell_type": "code",
   "execution_count": 4,
   "id": "0ca11269-567d-46d1-ae7c-ca1b52ac6234",
   "metadata": {},
   "outputs": [],
   "source": [
    "import * as mod from \"https://deno.land/std@0.213.0/dotenv/mod.ts\";\n",
    "import * as pdfParser from \"https://deno.land/x/pdf_parser@v1.1.2/main.js\";\n",
    "\n",
    "\n",
    "const keys = await mod.load({export: true})"
   ]
  },
  {
   "cell_type": "code",
   "execution_count": 5,
   "id": "d06258fd-5176-4450-9c01-642324cea748",
   "metadata": {},
   "outputs": [],
   "source": [
    "import {\n",
    "    Document,\n",
    "    VectorStoreIndex,\n",
    "    SimpleDirectoryReader\n",
    "} from \"npm:llamaindex@0.1.8\""
   ]
  },
  {
   "cell_type": "code",
   "execution_count": 7,
   "id": "8faf2f5e-0720-47b7-bd8b-53ddb935afa9",
   "metadata": {},
   "outputs": [],
   "source": [
    "const documents = await new SimpleDirectoryReader()\n",
    "    .loadData({directoryPath: \"../data\"})"
   ]
  },
  {
   "cell_type": "code",
   "execution_count": 8,
   "id": "23e3214b",
   "metadata": {},
   "outputs": [],
   "source": [
    "const index   = await VectorStoreIndex.fromDocuments(documents)"
   ]
  },
  {
   "cell_type": "markdown",
   "id": "96ebab12",
   "metadata": {},
   "source": [
    "### Create a Query Engine\n",
    "Conveneience Function\n",
    "- Retriever\n",
    "- Postprocessing\n",
    "- Synthesizer"
   ]
  },
  {
   "cell_type": "code",
   "execution_count": 9,
   "id": "2b7c0377",
   "metadata": {},
   "outputs": [],
   "source": [
    "const queryEngine = index.asQueryEngine()"
   ]
  },
  {
   "cell_type": "code",
   "execution_count": 13,
   "id": "cb06eee5",
   "metadata": {},
   "outputs": [],
   "source": [
    "const response = await queryEngine.query({\n",
    "    query: \"What is love?\"\n",
    "})"
   ]
  },
  {
   "cell_type": "code",
   "execution_count": 14,
   "id": "2dd89fe4",
   "metadata": {},
   "outputs": [
    {
     "name": "stdout",
     "output_type": "stream",
     "text": [
      "Love, as described in the context information, is a powerful force that dissolves tangles, risks everything, and can effortlessly reduce itself to rubble. It is different from intellect, which is cautious and advises against too much excitement. Love is about embracing imperfections and defects in others, understanding and appreciating them, and ultimately leading to wisdom and a deeper connection with God. It is a force that transcends language and can only be truly understood through silence. Love is about letting life live through you, embracing change, and being open to the unknown. It is about seeing God in everything and everyone, and ultimately, it is about discovering the treasures hidden among ruins, as a broken heart hides treasures.\n"
     ]
    }
   ],
   "source": [
    "console.log(response.toString())"
   ]
  },
  {
   "cell_type": "code",
   "execution_count": 15,
   "id": "bc358ca2",
   "metadata": {},
   "outputs": [],
   "source": [
    "const response = await queryEngine.query({\n",
    "    query: \"What is 10th rule of love?\"\n",
    "})"
   ]
  },
  {
   "cell_type": "code",
   "execution_count": 16,
   "id": "44489b4b",
   "metadata": {},
   "outputs": [
    {
     "name": "stdout",
     "output_type": "stream",
     "text": [
      "Rule 13: Try not to resist the changes, which come your way. Instead let life live through you. And do not worry that your life is turning upside down. How do you know that the side you are used to is better than the one to come? – Shams, to a novice\n"
     ]
    }
   ],
   "source": [
    "console.log(response.toString())"
   ]
  },
  {
   "cell_type": "markdown",
   "id": "af864da9",
   "metadata": {},
   "source": [
    "What happened?\n",
    "- LLM to answer questions\n",
    "- Embedding models to encode them"
   ]
  },
  {
   "cell_type": "code",
   "execution_count": 18,
   "id": "b2de6621",
   "metadata": {},
   "outputs": [],
   "source": [
    "import * as llamaIndex from \"npm:llamaindex@0.1.8\""
   ]
  },
  {
   "cell_type": "code",
   "execution_count": 19,
   "id": "0718f19d",
   "metadata": {},
   "outputs": [],
   "source": [
    "let customLLM = new llamaIndex.OpenAI()\n",
    "let customEmbedding = new llamaIndex.OpenAIEmbedding()"
   ]
  },
  {
   "cell_type": "code",
   "execution_count": 20,
   "id": "c8fed5f2",
   "metadata": {},
   "outputs": [],
   "source": [
    "let customServiceContext = new llamaIndex.serviceContextFromDefaults({\n",
    "    llm: customLLM,\n",
    "    embedModel: customEmbedding\n",
    "})"
   ]
  },
  {
   "cell_type": "markdown",
   "id": "b2bc4607",
   "metadata": {},
   "source": [
    "### Our own prompt"
   ]
  },
  {
   "cell_type": "code",
   "execution_count": 23,
   "id": "a1ce9e35",
   "metadata": {},
   "outputs": [],
   "source": [
    "let customQaPrompt = function({ context= \"\", query = \"\"}) {\n",
    "    return `Context information is below.\n",
    "        ---------------------\n",
    "        ${context}\n",
    "        ---------------------\n",
    "        Given the context information, answer the query.\n",
    "        Include a random fact about whales in your answer.\\\n",
    "        The whale fact can come from your training data.\n",
    "        Query: ${query}\n",
    "        Answer:`\n",
    "}"
   ]
  },
  {
   "cell_type": "code",
   "execution_count": 24,
   "id": "3345a38d",
   "metadata": {},
   "outputs": [],
   "source": [
    "let customResponseBuilder = new llamaIndex.SimpleResponseBuilder(\n",
    "    customServiceContext,\n",
    "    customQaPrompt\n",
    ")"
   ]
  },
  {
   "cell_type": "code",
   "execution_count": 25,
   "id": "860c484f",
   "metadata": {},
   "outputs": [],
   "source": [
    "let customSynthesizer = new llamaIndex.ResponseSynthesizer({\n",
    "    responseBuilder: customResponseBuilder,\n",
    "    serviceContext: customServiceContext\n",
    "})"
   ]
  },
  {
   "cell_type": "code",
   "execution_count": 26,
   "id": "fd1e01f6",
   "metadata": {},
   "outputs": [],
   "source": [
    "let customRetriever = new llamaIndex.VectorIndexRetriever({\n",
    "    index\n",
    "})"
   ]
  },
  {
   "cell_type": "code",
   "execution_count": 27,
   "id": "e2b7d3cb",
   "metadata": {},
   "outputs": [],
   "source": [
    "let customQueryEngine = new llamaIndex.RetrieverQueryEngine(\n",
    "    customRetriever,\n",
    "    customSynthesizer\n",
    ")"
   ]
  },
  {
   "cell_type": "code",
   "execution_count": 28,
   "id": "611554df",
   "metadata": {},
   "outputs": [],
   "source": [
    "let response2 = await customQueryEngine.query({\n",
    "    query: \"What is love?\"\n",
    "})"
   ]
  },
  {
   "cell_type": "code",
   "execution_count": 29,
   "id": "7cdfe411",
   "metadata": {},
   "outputs": [
    {
     "name": "stdout",
     "output_type": "stream",
     "text": [
      "Love, according to the teachings of Shams, is the ultimate key to understanding and knowing God. It is not just about loving a perfect deity, but also about embracing the imperfections and quirks of fellow human beings. True wisdom, as Shams suggests, cannot exist without love for God's creation. In essence, love is the bridge that connects us to both humanity and divinity, allowing us to truly know and appreciate the beauty of the world around us.\n",
      "\n",
      "Random whale fact: Whales are known for their complex communication skills, using a variety of sounds and vocalizations to communicate with each other over long distances in the ocean. This ability to communicate effectively is crucial for their social interactions and survival in their marine environment.\n"
     ]
    }
   ],
   "source": [
    "console.log(response2.toString())"
   ]
  },
  {
   "cell_type": "code",
   "execution_count": null,
   "id": "9f3582fa",
   "metadata": {},
   "outputs": [],
   "source": []
  }
 ],
 "metadata": {
  "kernelspec": {
   "display_name": "Deno",
   "language": "typescript",
   "name": "deno"
  },
  "language_info": {
   "file_extension": ".ts",
   "mimetype": "text/x.typescript",
   "name": "typescript",
   "nb_converter": "script",
   "pygments_lexer": "typescript",
   "version": "5.4.3"
  }
 },
 "nbformat": 4,
 "nbformat_minor": 5
}
