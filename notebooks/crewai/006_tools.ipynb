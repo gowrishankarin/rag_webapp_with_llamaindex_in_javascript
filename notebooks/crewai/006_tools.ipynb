{
 "cells": [
  {
   "cell_type": "markdown",
   "id": "a1704a95-fb20-4d09-bc6c-1f2ed9353606",
   "metadata": {},
   "source": [
    "# Tools\n",
    "\n",
    "- Search the internet\n",
    "- Scrape a website\n",
    "- Connect to a database\n",
    "- Call an API\n",
    "- Send notifications"
   ]
  },
  {
   "cell_type": "markdown",
   "id": "2d169158-6386-448d-bf8d-8356857e6202",
   "metadata": {},
   "source": [
    "### More tools\n",
    "- Google serper search\n",
    "- Scrape website\n",
    "- Directory read\n",
    "- File read\n",
    "- Selenium scraper\n",
    "- Directory RAG search\n",
    "- PDF RAG search\n",
    "- Text RAG search\n",
    "- CSV RAG search\n",
    "- XML RAG search\n",
    "- JSON RAG search\n",
    "- DOCX RAG search\n",
    "- DSX RAG search\n",
    "- PG RAG search\n",
    "- Website RAG search\n",
    "- Github RAG search\n",
    "- Code Docs RAG search\n",
    "- Youtube Video RAG search\n",
    "- Channel RAG search"
   ]
  },
  {
   "cell_type": "code",
   "execution_count": 2,
   "id": "cb4194bc-7706-4f33-87ba-8fd976f43769",
   "metadata": {},
   "outputs": [],
   "source": [
    "# Warning control\n",
    "import warnings\n",
    "warnings.filterwarnings('ignore')"
   ]
  },
  {
   "cell_type": "code",
   "execution_count": 3,
   "id": "36a69024-411b-4e24-b67b-6a91dad39e7c",
   "metadata": {},
   "outputs": [],
   "source": [
    "import os\n",
    "from crewai import Agent, Task, Crew\n",
    "from dotenv import find_dotenv, load_dotenv\n",
    "\n",
    "# _ = load_dotenv(find_dotenv())\n",
    "load_dotenv()\n",
    "os.environ[\"OPENAI_MODEL_NAME\"] = 'gpt-3.5-turbo'"
   ]
  },
  {
   "cell_type": "markdown",
   "id": "84379691-3f35-4863-a03a-a961a272177c",
   "metadata": {},
   "source": [
    "## Agents"
   ]
  },
  {
   "cell_type": "code",
   "execution_count": 4,
   "id": "55782b6c-b772-4778-b6df-64aabb136b6a",
   "metadata": {},
   "outputs": [],
   "source": [
    "sales_rep_agent = Agent(\n",
    "    role=\"Sales Representative\",\n",
    "    goal=\"Identify high-value leads that match \"\n",
    "         \"our ideal customer profile\",\n",
    "    backstory=(\n",
    "        \"As a part of the dynamic sales team at CrewAI, \"\n",
    "        \"your mission is to scour \"\n",
    "        \"the digital landscape for potential leads. \"\n",
    "        \"Armed with cutting-edge tools \"\n",
    "        \"and a strategic mindset, you analyze data, \"\n",
    "        \"trends, and interactions to \"\n",
    "        \"unearth opportunities that others might overlook. \"\n",
    "        \"Your work is crucial in paving the way \"\n",
    "        \"for meaningful engagements and driving the company's growth.\"\n",
    "    ),\n",
    "    allow_delegation=False,\n",
    "    verbose=True\n",
    ")"
   ]
  },
  {
   "cell_type": "code",
   "execution_count": 5,
   "id": "c63bc764-f113-430d-a8d8-ce7a28662ac8",
   "metadata": {},
   "outputs": [],
   "source": [
    "lead_sales_rep_agent = Agent(\n",
    "    role=\"Lead Sales Representative\",\n",
    "    goal=\"Nurture leads with personalized, compelling communications\",\n",
    "    backstory=(\n",
    "        \"Within the vibrant ecosystem of CrewAI's sales department, \"\n",
    "        \"you stand out as the bridge between potential clients \"\n",
    "        \"and the solutions they need.\"\n",
    "        \"By creating engaging, personalized messages, \"\n",
    "        \"you not only inform leads about our offerings \"\n",
    "        \"but also make them feel seen and heard.\"\n",
    "        \"Your role is pivotal in converting interest \"\n",
    "        \"into action, guiding leads through the journey \"\n",
    "        \"from curiosity to commitment.\"\n",
    "    ),\n",
    "    allow_delegation=False,\n",
    "    verbose=True\n",
    ")"
   ]
  },
  {
   "cell_type": "markdown",
   "id": "4c7c8eaa-ac9c-4e63-aebd-d04d031b14e7",
   "metadata": {},
   "source": [
    "## Tools"
   ]
  },
  {
   "cell_type": "code",
   "execution_count": 6,
   "id": "5bd00da8-d375-4201-91a8-bda129707884",
   "metadata": {},
   "outputs": [],
   "source": [
    "from crewai_tools import DirectoryReadTool, FileReadTool, SerperDevTool"
   ]
  },
  {
   "cell_type": "code",
   "execution_count": 9,
   "id": "3e83c183-9866-4f46-9f51-18451daa0b3e",
   "metadata": {},
   "outputs": [],
   "source": [
    "directory_read_tool = DirectoryReadTool(directory='./instructions')\n",
    "file_read_tool = FileReadTool()\n",
    "search_tool = SerperDevTool()"
   ]
  },
  {
   "cell_type": "code",
   "execution_count": 10,
   "id": "b7f2f583-434d-4709-bb35-fb6b2665fbfe",
   "metadata": {},
   "outputs": [],
   "source": [
    "from crewai_tools import BaseTool"
   ]
  },
  {
   "cell_type": "code",
   "execution_count": 11,
   "id": "1dd0a783-d2da-48fc-941f-b6e9dbbe74e8",
   "metadata": {},
   "outputs": [],
   "source": [
    "class SentimentAnalysisTool(BaseTool):\n",
    "    name: str =\"Sentiment Analysis Tool\"\n",
    "    description: str = (\"Analyzes the sentiment of text \"\n",
    "         \"to ensure positive and engaging communication.\")\n",
    "    \n",
    "    def _run(self, text: str) -> str:\n",
    "        # Your custom code tool goes here\n",
    "        return \"positive\""
   ]
  },
  {
   "cell_type": "code",
   "execution_count": 12,
   "id": "9a8f4ba5-0f83-4662-8881-8fd66db773a6",
   "metadata": {},
   "outputs": [],
   "source": [
    "sentiment_analysis_tool = SentimentAnalysisTool()"
   ]
  },
  {
   "cell_type": "markdown",
   "id": "b9e46bef-79dc-402b-8f76-c7dad9d90c6c",
   "metadata": {},
   "source": [
    "## Tasks\n",
    "- Lead profiling task\n",
    "- Personalized outreach task\n"
   ]
  },
  {
   "cell_type": "code",
   "execution_count": 13,
   "id": "badc1e04-8268-4f60-89a8-4a12da20b954",
   "metadata": {},
   "outputs": [],
   "source": [
    "lead_profiling_task = Task(\n",
    "    description=(\n",
    "        \"Conduct an in-depth analysis of {lead_name}, \"\n",
    "        \"a company in the {industry} sector \"\n",
    "        \"that recently showed interest in our solutions. \"\n",
    "        \"Utilize all available data sources \"\n",
    "        \"to compile a detailed profile, \"\n",
    "        \"focusing on key decision-makers, recent business \"\n",
    "        \"developments, and potential needs \"\n",
    "        \"that align with our offerings. \"\n",
    "        \"This task is crucial for tailoring \"\n",
    "        \"our engagement strategy effectively.\\n\"\n",
    "        \"Don't make assumptions and \"\n",
    "        \"only use information you absolutely sure about.\"\n",
    "    ),\n",
    "    expected_output=(\n",
    "        \"A comprehensive report on {lead_name}, \"\n",
    "        \"including company background, \"\n",
    "        \"key personnel, recent milestones, and identified needs. \"\n",
    "        \"Highlight potential areas where \"\n",
    "        \"our solutions can provide value, \"\n",
    "        \"and suggest personalized engagement strategies.\"\n",
    "    ),\n",
    "    tools=[directory_read_tool, file_read_tool, search_tool],\n",
    "    agent=sales_rep_agent,\n",
    ")"
   ]
  },
  {
   "cell_type": "code",
   "execution_count": 14,
   "id": "a507e9ba-6c79-4f43-9322-e849931e138a",
   "metadata": {},
   "outputs": [],
   "source": [
    "personalized_outreach_task = Task(\n",
    "    description=(\n",
    "        \"Using the insights gathered from \"\n",
    "        \"the lead profiling report on {lead_name}, \"\n",
    "        \"craft a personalized outreach campaign \"\n",
    "        \"aimed at {key_decision_maker}, \"\n",
    "        \"the {position} of {lead_name}. \"\n",
    "        \"The campaign should address their recent {milestone} \"\n",
    "        \"and how our solutions can support their goals. \"\n",
    "        \"Your communication must resonate \"\n",
    "        \"with {lead_name}'s company culture and values, \"\n",
    "        \"demonstrating a deep understanding of \"\n",
    "        \"their business and needs.\\n\"\n",
    "        \"Don't make assumptions and only \"\n",
    "        \"use information you absolutely sure about.\"\n",
    "    ),\n",
    "    expected_output=(\n",
    "        \"A series of personalized email drafts \"\n",
    "        \"tailored to {lead_name}, \"\n",
    "        \"specifically targeting {key_decision_maker}.\"\n",
    "        \"Each draft should include \"\n",
    "        \"a compelling narrative that connects our solutions \"\n",
    "        \"with their recent achievements and future goals. \"\n",
    "        \"Ensure the tone is engaging, professional, \"\n",
    "        \"and aligned with {lead_name}'s corporate identity.\"\n",
    "    ),\n",
    "    tools=[sentiment_analysis_tool, search_tool],\n",
    "    agent=lead_sales_rep_agent,\n",
    ")"
   ]
  },
  {
   "cell_type": "markdown",
   "id": "afc20d2a-b608-4853-bb9f-22e7a6d8042c",
   "metadata": {},
   "source": [
    "## Crew"
   ]
  },
  {
   "cell_type": "code",
   "execution_count": 15,
   "id": "efaf4219-74bf-4627-a8c4-753b1e649fea",
   "metadata": {},
   "outputs": [],
   "source": [
    "crew = Crew(\n",
    "    agents=[sales_rep_agent, \n",
    "            lead_sales_rep_agent],\n",
    "    \n",
    "    tasks=[lead_profiling_task, \n",
    "           personalized_outreach_task],\n",
    "\t\n",
    "    verbose=2,\n",
    "\tmemory=True\n",
    ")"
   ]
  },
  {
   "cell_type": "code",
   "execution_count": 16,
   "id": "17c20def-674b-45d0-9c61-c0a9e937396e",
   "metadata": {},
   "outputs": [
    {
     "name": "stdout",
     "output_type": "stream",
     "text": [
      "\u001b[1m\u001b[95m [DEBUG]: == Working Agent: Sales Representative\u001b[00m\n",
      "\u001b[1m\u001b[95m [INFO]: == Starting Task: Conduct an in-depth analysis of DeepLearningAI, a company in the Online Learning Platform sector that recently showed interest in our solutions. Utilize all available data sources to compile a detailed profile, focusing on key decision-makers, recent business developments, and potential needs that align with our offerings. This task is crucial for tailoring our engagement strategy effectively.\n",
      "Don't make assumptions and only use information you absolutely sure about.\u001b[00m\n",
      "\n",
      "\n",
      "\u001b[1m> Entering new CrewAgentExecutor chain...\u001b[0m\n",
      "\u001b[32;1m\u001b[1;3mI need to gather as much information as possible about DeepLearningAI to create a comprehensive report for my team.\n",
      "\n",
      "Action: Read a file's content\n",
      "Action Input: {\"file_path\": \"./instructions/DeepLearningAI_company_background.txt\"}\u001b[0m\u001b[91m \n",
      "\n",
      "I encountered an error while trying to use the tool. This was the error: [Errno 2] No such file or directory: './instructions/DeepLearningAI_company_background.txt'.\n",
      " Tool Read a file's content accepts these inputs: Read a file's content(file_path: 'string') - A tool that can be used to read a file's content.\n",
      "\u001b[00m\n",
      "\u001b[32;1m\u001b[1;3mThought: I need to gather information from other sources since I couldn't access the DeepLearningAI_company_background.txt file.\n",
      "\n",
      "Action: Search the internet\n",
      "Action Input: {\"search_query\": \"DeepLearningAI company background\"}\u001b[0m\u001b[95m \n",
      "\n",
      "\n",
      "Search results: Title: Deeplearning.ai - Crunchbase Company Profile & Funding\n",
      "Link: https://www.crunchbase.com/organization/deeplearning-ai\n",
      "Snippet: The company is founded by Andrew Ng, the former Chief Scientist of Baidu and the current Chairman and Co-founder of Coursera and Adjunct Professor of Stanford ...\n",
      "---\n",
      "Title: DeepLearning.AI - LinkedIn\n",
      "Link: https://www.linkedin.com/company/deeplearningai\n",
      "Snippet: DeepLearning.AI is making a world-class AI education accessible to people around the globe. DeepLearning.AI was founded by Andrew Ng, a global leader in AI.\n",
      "---\n",
      "Title: DeepLearning.AI: Start or Advance Your Career in AI\n",
      "Link: https://www.deeplearning.ai/\n",
      "Snippet: Learn the skills to start or advance your AI career | World-class education | Hands-on training | Collaborative community of peers and mentors.\n",
      "---\n",
      "Title: Deeplearning.ai company information, funding & investors\n",
      "Link: https://app.dealroom.co/companies/deeplearning_ai\n",
      "Snippet: Deeplearning.ai, deeplearningai is company that explores the frontier of ai. Here you'll find information about their funding, investors and team.\n",
      "---\n",
      "Title: Deep Learning Specialization - DeepLearning.AI\n",
      "Link: https://www.deeplearning.ai/courses/deep-learning-specialization/\n",
      "Snippet: The Deep Learning Specialization is a foundational program that will help you understand the capabilities, challenges, and consequences of deep learning and ...\n",
      "---\n",
      "Title: DeepLearning.AI - Overview, News & Similar companies - ZoomInfo\n",
      "Link: https://www.zoominfo.com/c/deeplearningai-inc/462132321\n",
      "Snippet: View DeepLearning.AI (www.deeplearning.ai) location in California, United States , revenue, industry and description. Find related and similar companies as ...\n",
      "---\n",
      "Title: DeepLearning.AI Online Courses - Coursera\n",
      "Link: https://www.coursera.org/deeplearning-ai\n",
      "Snippet: DeepLearning.AI is an education technology company that develops a global community of AI talent. DeepLearning.AI's expert-led educational experiences ...\n",
      "---\n",
      "Title: Machine Learning Specialization - DeepLearning.AI\n",
      "Link: https://www.deeplearning.ai/courses/machine-learning-specialization/\n",
      "Snippet: I'm a complete beginner. Doesn't require prior math knowledge or a rigorous coding background; Takes the core curriculum — vetted by millions of learners ...\n",
      "---\n",
      "Title: Andrew Ng - Wikipedia\n",
      "Link: https://en.wikipedia.org/wiki/Andrew_Ng\n",
      "Snippet: Ng has also worked in the field of online education, cofounding Coursera and DeepLearning.AI. He has spearheaded many efforts to \"democratize deep learning\" ...\n",
      "---\n",
      "\n",
      "\u001b[00m\n",
      "\u001b[32;1m\u001b[1;3mThought: I need to gather more specific information about DeepLearningAI's key personnel, recent milestones, and potential needs that align with our offerings.\n",
      "\n",
      "Action: Search the internet\n",
      "Action Input: {\"search_query\": \"DeepLearningAI key personnel and recent milestones\"}\u001b[0m\u001b[95m \n",
      "\n",
      "\n",
      "Search results: Title: DeepLearning.AI: Start or Advance Your Career in AI\n",
      "Link: https://www.deeplearning.ai/\n",
      "Snippet: Learn the skills to start or advance your AI career | World-class education | Hands-on training | Collaborative community of peers and mentors.\n",
      "---\n",
      "Title: The Batch | DeepLearning.AI | AI News & Insights\n",
      "Link: https://www.deeplearning.ai/the-batch/\n",
      "Snippet: The Batch AI News and Insights: Planning is a key agentic AI design pattern in which we use a large language model (LLM) to autonomously decide on what sequence ...\n",
      "---\n",
      "Title: amanchadha/coursera-deep-learning-specialization: Notes ... - GitHub\n",
      "Link: https://github.com/amanchadha/coursera-deep-learning-specialization\n",
      "Snippet: Notes, programming assignments and quizzes from all courses within the Coursera Deep Learning specialization offered by deeplearning.ai: (i) Neural Networks ...\n",
      "---\n",
      "Title: AI & Society Articles - The Batch - DeepLearning.AI\n",
      "Link: https://www.deeplearning.ai/the-batch/tag/ai-society/\n",
      "Snippet: An AI system is scouring battlefields for landmines and other unexploded ordnance, enabling specialists to defuse them. May 8, 2024. Timeline of OpenAI's news ...\n",
      "---\n",
      "Title: About | The Batch | AI News & Insights - DeepLearning.AI\n",
      "Link: https://www.deeplearning.ai/the-batch/about/\n",
      "Snippet: We talk directly to the newsmakers and experienced machine learning engineers to gather an inside perspective. For those who want to dive deeper, The Batch ...\n",
      "---\n",
      "Title: The Most Significant AI Milestones So Far | Bernard Marr\n",
      "Link: https://bernardmarr.com/the-most-significant-ai-milestones-so-far/\n",
      "Snippet: Although many people might see AI as a relatively new field, there have been important AI milestones in the industry already and a very interesting history.\n",
      "---\n",
      "Title: Andrew Ng - DeepLearning.AI | LinkedIn\n",
      "Link: https://www.linkedin.com/in/andrewyng\n",
      "Snippet: Andrew Ng is an influencer. DeepLearning.AI University of California, Berkeley. Palo Alto, California, United States.\n",
      "---\n",
      "Title: Letters from Andrew Ng | The Batch - DeepLearning.AI\n",
      "Link: https://www.deeplearning.ai/the-batch/tag/letters/\n",
      "Snippet: Three keys to AI entrepreneurship emerged at AI Fund's annual co-founder and CEO summit. Earlier this month, my team AI Fund held its annual co-founder and CEO ...\n",
      "---\n",
      "Title: The Rise of AI Education: Andrew Ng & Deeplearning.ai - Seamgen\n",
      "Link: https://www.seamgen.com/blog/ai-education-andrew-ng-deep-learning\n",
      "Snippet: Explore Andrew Ng's AI education revolution at Deeplearning.ai. Master deep learning principles for modern AI applications with confidence.\n",
      "---\n",
      "Title: An In-depth Review of Andrew Ng's deeplearning.ai Specialization\n",
      "Link: https://towardsdatascience.com/an-in-depth-review-of-andrew-ngs-deeplearning-ai-speciliazation-99612991eb61\n",
      "Snippet: Deep learning utilises multiple layers of neural networks to abstract information from an input source to a more structured output source. The ...\n",
      "---\n",
      "\n",
      "\u001b[00m\n",
      "\u001b[32;1m\u001b[1;3mThought: I now have a good amount of information on DeepLearningAI, including company background, key personnel, and recent milestones. I should compile all this data into a comprehensive report.\n",
      "\n",
      "Final Answer: \n",
      "DeepLearningAI is an online learning platform founded by Andrew Ng, the former Chief Scientist of Baidu and the current Chairman and Co-founder of Coursera. The company aims to make world-class AI education accessible to people globally. DeepLearningAI offers a variety of courses, including the Deep Learning Specialization and Machine Learning Specialization.\n",
      "\n",
      "Key personnel at DeepLearningAI include Andrew Ng, a global leader in AI, who spearheads the company's efforts in democratizing deep learning. Recent milestones for DeepLearningAI include ongoing advancements in AI education and the development of a collaborative community of AI talent.\n",
      "\n",
      "Potential areas where our solutions at CrewAI can provide value to DeepLearningAI include enhancing their lead generation process, optimizing customer engagement strategies, and personalizing user experiences. To effectively engage with DeepLearningAI, we can tailor our solutions to align with their goals of expanding AI education worldwide and fostering a supportive learning environment for students.\n",
      "\n",
      "In conclusion, DeepLearningAI presents a significant opportunity for partnership and collaboration, and by leveraging our tools and expertise at CrewAI, we can help support their mission of advancing AI education on a global scale.\u001b[0m\n",
      "\n",
      "\u001b[1m> Finished chain.\u001b[0m\n",
      "\u001b[1m\u001b[92m [DEBUG]: == [Sales Representative] Task output: DeepLearningAI is an online learning platform founded by Andrew Ng, the former Chief Scientist of Baidu and the current Chairman and Co-founder of Coursera. The company aims to make world-class AI education accessible to people globally. DeepLearningAI offers a variety of courses, including the Deep Learning Specialization and Machine Learning Specialization.\n",
      "\n",
      "Key personnel at DeepLearningAI include Andrew Ng, a global leader in AI, who spearheads the company's efforts in democratizing deep learning. Recent milestones for DeepLearningAI include ongoing advancements in AI education and the development of a collaborative community of AI talent.\n",
      "\n",
      "Potential areas where our solutions at CrewAI can provide value to DeepLearningAI include enhancing their lead generation process, optimizing customer engagement strategies, and personalizing user experiences. To effectively engage with DeepLearningAI, we can tailor our solutions to align with their goals of expanding AI education worldwide and fostering a supportive learning environment for students.\n",
      "\n",
      "In conclusion, DeepLearningAI presents a significant opportunity for partnership and collaboration, and by leveraging our tools and expertise at CrewAI, we can help support their mission of advancing AI education on a global scale.\n",
      "\n",
      "\u001b[00m\n",
      "\u001b[1m\u001b[95m [DEBUG]: == Working Agent: Lead Sales Representative\u001b[00m\n",
      "\u001b[1m\u001b[95m [INFO]: == Starting Task: Using the insights gathered from the lead profiling report on DeepLearningAI, craft a personalized outreach campaign aimed at Andrew Ng, the CEO of DeepLearningAI. The campaign should address their recent product launch and how our solutions can support their goals. Your communication must resonate with DeepLearningAI's company culture and values, demonstrating a deep understanding of their business and needs.\n",
      "Don't make assumptions and only use information you absolutely sure about.\u001b[00m\n",
      "\n",
      "\n",
      "\u001b[1m> Entering new CrewAgentExecutor chain...\u001b[0m\n"
     ]
    },
    {
     "name": "stderr",
     "output_type": "stream",
     "text": [
      "2024-05-20 17:58:34,493 - 8535849664 - manager.py-manager:46 - ERROR: No such comm target registered: jupyter.widget.control\n",
      "2024-05-20 17:58:34,494 - 8535849664 - base_comm.py-base_comm:212 - WARNING: No such comm: 371ad254-db07-4bf0-8b5b-db8926528127\n"
     ]
    }
   ],
   "source": [
    "inputs = {\n",
    "    \"lead_name\": \"DeepLearningAI\",\n",
    "    \"industry\": \"Online Learning Platform\",\n",
    "    \"key_decision_maker\": \"Andrew Ng\",\n",
    "    \"position\": \"CEO\",\n",
    "    \"milestone\": \"product launch\"\n",
    "}\n",
    "\n",
    "result = crew.kickoff(inputs=inputs)"
   ]
  },
  {
   "cell_type": "code",
   "execution_count": 17,
   "id": "971edf06-b40d-40f5-b407-a8a8eb01bbeb",
   "metadata": {},
   "outputs": [
    {
     "data": {
      "text/markdown": [
       "Email Draft to Andrew Ng:\n",
       "\n",
       "Subject: Collaborating to Drive AI Education Worldwide\n",
       "\n",
       "Dear Dr. Andrew Ng,\n",
       "\n",
       "I hope this message finds you well. I am reaching out from CrewAI, a company dedicated to providing innovative solutions to support organizations like DeepLearningAI in achieving their goals.\n",
       "\n",
       "I recently came across the exciting news about the launch of 'AI for Everyone,' a new Coursera program aimed at business professionals. Your commitment to democratizing AI education and empowering learners worldwide is truly inspiring.\n",
       "\n",
       "At CrewAI, we believe that our solutions can complement DeepLearningAI's mission by enhancing lead generation processes, optimizing customer engagement strategies, and personalizing user experiences. We are committed to supporting your efforts in expanding AI education globally and fostering a collaborative community of AI talent.\n",
       "\n",
       "I would love the opportunity to discuss how our expertise and tools can align with your vision and contribute to the continued success of DeepLearningAI. Your leadership in the field of AI is commendable, and we are eager to collaborate with you to drive innovation and excellence in AI education.\n",
       "\n",
       "Thank you for considering this partnership opportunity. I look forward to the possibility of working together to advance AI education on a global scale.\n",
       "\n",
       "Warm regards,\n",
       "\n",
       "[Your Name]\n",
       "Lead Sales Representative\n",
       "CrewAI\n",
       "\n",
       "---\n",
       "\n",
       "Email Draft to DeepLearningAI Team:\n",
       "\n",
       "Subject: Elevating AI Education with CrewAI's Solutions\n",
       "\n",
       "Dear DeepLearningAI Team,\n",
       "\n",
       "I am writing to express my admiration for the impactful work that DeepLearningAI is doing to make world-class AI education accessible globally. The recent achievements in advancing AI education and fostering a collaborative community of AI talent are truly commendable.\n",
       "\n",
       "At CrewAI, we are passionate about leveraging our solutions to support organizations like DeepLearningAI in achieving their goals. Our expertise in enhancing lead generation processes, optimizing customer engagement strategies, and personalizing user experiences aligns perfectly with DeepLearningAI's mission.\n",
       "\n",
       "We believe that by collaborating with DeepLearningAI, we can further expand the reach of AI education and create a supportive learning environment for students worldwide. Our team is dedicated to tailoring our solutions to meet your specific needs and contribute to the continued success of DeepLearningAI.\n",
       "\n",
       "I would welcome the opportunity to discuss how CrewAI can partner with DeepLearningAI to drive innovation and excellence in AI education. Together, we can make a lasting impact on the global AI community and empower learners with the skills they need to succeed in a rapidly evolving world.\n",
       "\n",
       "Thank you for considering this partnership. I am excited about the prospect of working together to elevate AI education to new heights.\n",
       "\n",
       "Best regards,\n",
       "\n",
       "[Your Name]\n",
       "Lead Sales Representative\n",
       "CrewAI"
      ],
      "text/plain": [
       "<IPython.core.display.Markdown object>"
      ]
     },
     "execution_count": 17,
     "metadata": {},
     "output_type": "execute_result"
    }
   ],
   "source": [
    "from IPython.display import Markdown\n",
    "Markdown(result)"
   ]
  },
  {
   "cell_type": "code",
   "execution_count": null,
   "id": "0fffa286-d1dd-4a90-9369-923cfc2d5b81",
   "metadata": {},
   "outputs": [],
   "source": []
  }
 ],
 "metadata": {
  "kernelspec": {
   "display_name": "Python 3 (ipykernel)",
   "language": "python",
   "name": "python3"
  },
  "language_info": {
   "codemirror_mode": {
    "name": "ipython",
    "version": 3
   },
   "file_extension": ".py",
   "mimetype": "text/x-python",
   "name": "python",
   "nbconvert_exporter": "python",
   "pygments_lexer": "ipython3",
   "version": "3.11.8"
  }
 },
 "nbformat": 4,
 "nbformat_minor": 5
}
