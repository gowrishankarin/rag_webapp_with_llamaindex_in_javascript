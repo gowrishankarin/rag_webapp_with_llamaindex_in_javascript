{
 "cells": [
  {
   "cell_type": "markdown",
   "id": "f54a2c4e-ca48-4653-936a-9e10d3d06db0",
   "metadata": {},
   "source": [
    "# Make a webapp"
   ]
  },
  {
   "cell_type": "code",
   "execution_count": 1,
   "id": "5f02deef-5639-4105-8243-04b21df1a45d",
   "metadata": {},
   "outputs": [],
   "source": [
    "import { runFrontend, runBackend, addToFrontend } from './utils.ts'"
   ]
  },
  {
   "cell_type": "code",
   "execution_count": 2,
   "id": "fbfae15f-a2e4-4d08-9063-696e223297d6",
   "metadata": {},
   "outputs": [
    {
     "ename": "TypeError",
     "evalue": "Cannot read properties of undefined (reading 'replace')",
     "output_type": "error",
     "traceback": [
      "TypeError: Cannot read properties of undefined (reading 'replace')",
      "    at Object.[Jupyter.display] (file:///Users/shankar/work/personal/coding_skills/ml/rag_webapp_with_llamaindex_in_javascript/utils.ts:19:38)",
      "    at format (ext:cli/40_jupyter.js:211:31)",
      "    at Object.broadcastResult (ext:cli/40_jupyter.js:356:26)",
      "    at <anonymous>:2:45"
     ]
    }
   ],
   "source": [
    "runFrontend()"
   ]
  },
  {
   "cell_type": "code",
   "execution_count": 7,
   "id": "3072dc0b-2da3-4fd4-a4f2-df788261de17",
   "metadata": {},
   "outputs": [],
   "source": [
    "let x = Deno.env.get(\"DLAI_LOCAL_URL\")"
   ]
  },
  {
   "cell_type": "code",
   "execution_count": 8,
   "id": "7a6366e9-5302-4695-b470-1c8d0a91f109",
   "metadata": {},
   "outputs": [],
   "source": [
    "let y = Deno.env.get(\"OPENAI_API_KEY\")"
   ]
  },
  {
   "cell_type": "code",
   "execution_count": 10,
   "id": "19217a97-adb2-408a-a40d-90f571237bde",
   "metadata": {},
   "outputs": [
    {
     "ename": "Expected ';', '}' or <eof> at file:///repl.tsx:1:39\n\n  \t  [Symbol.for(\"Jupyter.display\")]() {\n                                       ~",
     "evalue": " ",
     "output_type": "error",
     "traceback": []
    }
   ],
   "source": [
    "\t  [Symbol.for(\"Jupyter.display\")]() {\n",
    "\t      return {\n",
    "\t          \"text/plan\": Deno.env.get(\"DLAI_LOCAL_URL\").replace(/\\{\\}/, Deno.env.get(\"PORT1\")), \n",
    "\t\t  \"text/html\": \"Check <a href=\" + Deno.env.get(\"DLAI_LOCAL_URL\").replace(/\\{\\}/, Deno.env.get(\"PORT1\")) + \" target='_blank'>\"+ Deno.env.get(\"DLAI_LOCAL_URL\").replace(/\\{\\}/, Deno.env.get(\"PORT1\")) + \"</a> to see the results\" \n",
    "              }\n",
    "\t  }"
   ]
  },
  {
   "cell_type": "code",
   "execution_count": 12,
   "id": "22b78297-1a59-417f-91ed-e401fc7b1614",
   "metadata": {},
   "outputs": [
    {
     "ename": "Expected ';', '}' or <eof> at file:///repl.tsx:1:35\n\n  [Symbol.for(\"Jupyter.display\")]() {\n                                    ~",
     "evalue": " ",
     "output_type": "error",
     "traceback": []
    }
   ],
   "source": [
    "[Symbol.for(\"Jupyter.display\")]() {\n",
    "    return {\n",
    "\t          \"text/plan\": \"http://localhost:8001\".replace(/\\{\\}/, 8001), \n",
    "\t\t  \"text/html\": \"Check <a href=\" + \"http://localhost:8001\".replace(/\\{\\}/, 8001) + \" target='_blank'>\"+ \"http://localhost:8001\".replace(/\\{\\}/, 8001) + \"</a> to see the results\" \n",
    "              }\n",
    "}"
   ]
  },
  {
   "cell_type": "code",
   "execution_count": 13,
   "id": "d5977512-360b-4460-a664-b69da73cd099",
   "metadata": {},
   "outputs": [
    {
     "data": {
      "text/plain": [
       "\u001b[32m\"http://localhost:8001\"\u001b[39m"
      ]
     },
     "execution_count": 13,
     "metadata": {},
     "output_type": "execute_result"
    }
   ],
   "source": [
    "\"http://localhost:8001\".replace(/\\{\\}/, 8001)"
   ]
  },
  {
   "cell_type": "code",
   "execution_count": null,
   "id": "36bdf4b3-8ae8-4e8a-b131-e6e8418dded7",
   "metadata": {},
   "outputs": [],
   "source": []
  }
 ],
 "metadata": {
  "kernelspec": {
   "display_name": "Deno",
   "language": "typescript",
   "name": "deno"
  },
  "language_info": {
   "file_extension": ".ts",
   "mimetype": "text/x.typescript",
   "name": "typescript",
   "nb_converter": "script",
   "pygments_lexer": "typescript",
   "version": "5.4.3"
  }
 },
 "nbformat": 4,
 "nbformat_minor": 5
}
